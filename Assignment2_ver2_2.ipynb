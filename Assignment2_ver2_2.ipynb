{
  "nbformat": 4,
  "nbformat_minor": 0,
  "metadata": {
    "colab": {
      "name": "Assignment2_ver2.2.ipynb",
      "provenance": [],
      "collapsed_sections": [],
      "include_colab_link": true
    },
    "kernelspec": {
      "name": "python3",
      "display_name": "Python 3"
    }
  },
  "cells": [
    {
      "cell_type": "markdown",
      "metadata": {
        "id": "view-in-github",
        "colab_type": "text"
      },
      "source": [
        "<a href=\"https://colab.research.google.com/github/OhBlockByJames/Assignment2/blob/main/Assignment2_ver2_2.ipynb\" target=\"_parent\"><img src=\"https://colab.research.google.com/assets/colab-badge.svg\" alt=\"Open In Colab\"/></a>"
      ]
    },
    {
      "cell_type": "code",
      "metadata": {
        "id": "9OELh4qogfLt"
      },
      "source": [
        "import numpy as np \r\n",
        "import keras \r\n",
        "from keras.models import Sequential\r\n",
        "from keras.datasets import mnist\r\n",
        "from keras.layers import Dense, Dropout, Activation, Flatten\r\n",
        "from keras.utils import np_utils  # 用來後續將label標籤轉為one-hot-encoding  \r\n",
        "from matplotlib import pyplot as plt\r\n",
        "import pandas as pd\r\n",
        "import tensorflow as tf\r\n",
        "from google.colab import files\r\n",
        "import io\r\n"
      ],
      "execution_count": null,
      "outputs": []
    },
    {
      "cell_type": "code",
      "metadata": {
        "colab": {
          "resources": {
            "http://localhost:8080/nbextensions/google.colab/files.js": {
              "data": "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",
              "ok": true,
              "headers": [
                [
                  "content-type",
                  "application/javascript"
                ]
              ],
              "status": 200,
              "status_text": ""
            }
          },
          "base_uri": "https://localhost:8080/",
          "height": 324
        },
        "id": "YeKdyNutgfxu",
        "outputId": "0239a0e5-4caf-4ef6-b868-b7ca7c8e0a1f"
      },
      "source": [
        "uploaded = files.upload()\r\n",
        "df = pd.read_csv(io.BytesIO(uploaded['train_all.csv']))\r\n",
        "print(df)"
      ],
      "execution_count": null,
      "outputs": [
        {
          "output_type": "display_data",
          "data": {
            "text/html": [
              "\n",
              "     <input type=\"file\" id=\"files-523b01ab-89e5-40d4-982f-ecf7650a9f72\" name=\"files[]\" multiple disabled\n",
              "        style=\"border:none\" />\n",
              "     <output id=\"result-523b01ab-89e5-40d4-982f-ecf7650a9f72\">\n",
              "      Upload widget is only available when the cell has been executed in the\n",
              "      current browser session. Please rerun this cell to enable.\n",
              "      </output>\n",
              "      <script src=\"/nbextensions/google.colab/files.js\"></script> "
            ],
            "text/plain": [
              "<IPython.core.display.HTML object>"
            ]
          },
          "metadata": {
            "tags": []
          }
        },
        {
          "output_type": "stream",
          "text": [
            "Saving train_all.csv to train_all.csv\n",
            "           X1        X2        X3        X4  ...       X10       X11       X12  Y\n",
            "0   -0.002390 -0.002091  0.001010 -0.002171  ...  0.000004  0.001011  0.000984 -1\n",
            "1   -0.002484 -0.002170  0.000752  0.000790  ...  0.000003  0.001013  0.000981 -1\n",
            "2   -0.002752 -0.002469  0.000998  0.002989  ...  0.000004  0.001038  0.000988 -1\n",
            "3   -0.002925 -0.002657  0.001240  0.003282  ...  0.000006  0.001069  0.001009  1\n",
            "4   -0.003050 -0.002783  0.001476  0.000550  ...  0.000007  0.001051  0.001009  1\n",
            "..        ...       ...       ...       ...  ...       ...       ...       ... ..\n",
            "475 -0.001887 -0.001211  0.000661 -0.000645  ...  0.000685  0.001134  0.001385  1\n",
            "476 -0.001840 -0.001211  0.000724 -0.000030  ...  0.000644  0.001229  0.001433  1\n",
            "477 -0.002028 -0.001431  0.000122  0.002421  ...  0.000688  0.001356  0.001481  1\n",
            "478 -0.001761 -0.001289  0.000528  0.000795  ...  0.000923  0.001439  0.001572  1\n",
            "479 -0.001698 -0.001352  0.000317  0.000710  ...  0.000633  0.001285  0.001546  1\n",
            "\n",
            "[480 rows x 13 columns]\n"
          ],
          "name": "stdout"
        }
      ]
    },
    {
      "cell_type": "code",
      "metadata": {
        "colab": {
          "base_uri": "https://localhost:8080/"
        },
        "id": "m02FydvLgrrP",
        "outputId": "4e513632-ce0b-4521-cf0b-55d138f7bfd8"
      },
      "source": [
        "dataset = df.values\r\n",
        "print(dataset)"
      ],
      "execution_count": null,
      "outputs": [
        {
          "output_type": "stream",
          "text": [
            "[[-2.389937e-03 -2.091195e-03  1.009520e-03 ...  1.010757e-03\n",
            "   9.836760e-04 -1.000000e+00]\n",
            " [-2.484277e-03 -2.169811e-03  7.523100e-04 ...  1.013102e-03\n",
            "   9.806900e-04 -1.000000e+00]\n",
            " [-2.751572e-03 -2.468553e-03  9.983030e-04 ...  1.038154e-03\n",
            "   9.883500e-04 -1.000000e+00]\n",
            " ...\n",
            " [-2.028302e-03 -1.430818e-03  1.218850e-04 ...  1.356135e-03\n",
            "   1.481274e-03  1.000000e+00]\n",
            " [-1.761006e-03 -1.289308e-03  5.279710e-04 ...  1.439037e-03\n",
            "   1.572327e-03  1.000000e+00]\n",
            " [-1.698113e-03 -1.352201e-03  3.171210e-04 ...  1.285156e-03\n",
            "   1.545728e-03  1.000000e+00]]\n"
          ],
          "name": "stdout"
        }
      ]
    },
    {
      "cell_type": "code",
      "metadata": {
        "id": "nIbv78xGozd4"
      },
      "source": [
        "X = dataset[:,0:12]\r\n",
        "Y = dataset[:,12:13]\r\n",
        "from sklearn import preprocessing\r\n",
        "sc = preprocessing.StandardScaler()\r\n",
        "X = sc.fit_transform(X)\r\n",
        "\r\n",
        "\r\n",
        "from sklearn.preprocessing import StandardScaler\r\n",
        "sc = StandardScaler()\r\n",
        "X = sc.fit_transform(X)\r\n",
        "\r\n",
        "from sklearn.preprocessing import OneHotEncoder\r\n",
        "ohe = OneHotEncoder()\r\n",
        "Y = ohe.fit_transform(Y).toarray()"
      ],
      "execution_count": null,
      "outputs": []
    },
    {
      "cell_type": "code",
      "metadata": {
        "id": "KrTXQ74g0oCB",
        "colab": {
          "base_uri": "https://localhost:8080/"
        },
        "outputId": "e51eb573-4e4b-4d3b-ab96-795da3a89a0e"
      },
      "source": [
        "from sklearn.model_selection import train_test_split\r\n",
        "X_train,X_test,y_train,y_test = train_test_split(X,Y,test_size = 0.1)\r\n",
        "print(X_train.shape,X_test.shape,y_train.shape,y_test.shape)"
      ],
      "execution_count": null,
      "outputs": [
        {
          "output_type": "stream",
          "text": [
            "(432, 12) (48, 12) (432, 2) (48, 2)\n"
          ],
          "name": "stdout"
        }
      ]
    },
    {
      "cell_type": "code",
      "metadata": {
        "id": "xPsbk-lDsahu"
      },
      "source": [
        "from tensorflow.keras import layers\r\n",
        "from tensorflow.keras import initializers\r\n",
        "\r\n",
        "# layer = layers.Dense(\r\n",
        "#     units=5,\r\n",
        "#     kernel_initializer=initializers.RandomNormal(stddev=0.01),\r\n",
        "#     bias_initializer=initializers.Zeros()\r\n",
        "# )\r\n",
        "model = Sequential()\r\n",
        "#Dense 代表是 fully connected\r\n",
        "model.add(Dense(5, input_dim=12, activation='relu',kernel_initializer=initializers.RandomNormal(stddev=0.01), ))\r\n",
        "#mean：均值 stddev：標準差 seed：隨機數種子\r\n",
        "model.add(Dense(2))\r\n",
        "#output layer has 2 nodes\r\n"
      ],
      "execution_count": null,
      "outputs": []
    },
    {
      "cell_type": "code",
      "metadata": {
        "id": "1CzWKubJutXy"
      },
      "source": [
        "op = keras.optimizers.SGD(learning_rate=0.0009)\r\n",
        "model.compile(loss='binary_crossentropy', optimizer=op, metrics=['accuracy'])"
      ],
      "execution_count": null,
      "outputs": []
    },
    {
      "cell_type": "code",
      "metadata": {
        "colab": {
          "base_uri": "https://localhost:8080/"
        },
        "id": "wkw0c5U8xoC7",
        "outputId": "6335708d-9a81-4a87-d580-a52dc98ffec8"
      },
      "source": [
        "history = model.fit(X_train, y_train, epochs=130, batch_size=64)"
      ],
      "execution_count": null,
      "outputs": [
        {
          "output_type": "stream",
          "text": [
            "Epoch 1/130\n",
            "7/7 [==============================] - 0s 2ms/step - loss: 3.5776 - accuracy: 0.7703\n",
            "Epoch 2/130\n",
            "7/7 [==============================] - 0s 2ms/step - loss: 2.0065 - accuracy: 0.7708\n",
            "Epoch 3/130\n",
            "7/7 [==============================] - 0s 2ms/step - loss: 1.3799 - accuracy: 0.8240\n",
            "Epoch 4/130\n",
            "7/7 [==============================] - 0s 2ms/step - loss: 1.3349 - accuracy: 0.7934\n",
            "Epoch 5/130\n",
            "7/7 [==============================] - 0s 2ms/step - loss: 1.0606 - accuracy: 0.8039\n",
            "Epoch 6/130\n",
            "7/7 [==============================] - 0s 2ms/step - loss: 0.9166 - accuracy: 0.7985\n",
            "Epoch 7/130\n",
            "7/7 [==============================] - 0s 2ms/step - loss: 0.9017 - accuracy: 0.8159\n",
            "Epoch 8/130\n",
            "7/7 [==============================] - 0s 2ms/step - loss: 0.8249 - accuracy: 0.8065\n",
            "Epoch 9/130\n",
            "7/7 [==============================] - 0s 1ms/step - loss: 0.8378 - accuracy: 0.7899\n",
            "Epoch 10/130\n",
            "7/7 [==============================] - 0s 2ms/step - loss: 0.7862 - accuracy: 0.8179\n",
            "Epoch 11/130\n",
            "7/7 [==============================] - 0s 2ms/step - loss: 0.7908 - accuracy: 0.8034\n",
            "Epoch 12/130\n",
            "7/7 [==============================] - 0s 2ms/step - loss: 0.7355 - accuracy: 0.8223\n",
            "Epoch 13/130\n",
            "7/7 [==============================] - 0s 1ms/step - loss: 0.7530 - accuracy: 0.8229\n",
            "Epoch 14/130\n",
            "7/7 [==============================] - 0s 2ms/step - loss: 0.7343 - accuracy: 0.8188\n",
            "Epoch 15/130\n",
            "7/7 [==============================] - 0s 2ms/step - loss: 0.6896 - accuracy: 0.8131\n",
            "Epoch 16/130\n",
            "7/7 [==============================] - 0s 2ms/step - loss: 0.6993 - accuracy: 0.8331\n",
            "Epoch 17/130\n",
            "7/7 [==============================] - 0s 2ms/step - loss: 0.6684 - accuracy: 0.8151\n",
            "Epoch 18/130\n",
            "7/7 [==============================] - 0s 2ms/step - loss: 0.6479 - accuracy: 0.8133\n",
            "Epoch 19/130\n",
            "7/7 [==============================] - 0s 2ms/step - loss: 0.6290 - accuracy: 0.8177\n",
            "Epoch 20/130\n",
            "7/7 [==============================] - 0s 2ms/step - loss: 0.6317 - accuracy: 0.8117\n",
            "Epoch 21/130\n",
            "7/7 [==============================] - 0s 2ms/step - loss: 0.6450 - accuracy: 0.8039\n",
            "Epoch 22/130\n",
            "7/7 [==============================] - 0s 2ms/step - loss: 0.6373 - accuracy: 0.8186\n",
            "Epoch 23/130\n",
            "7/7 [==============================] - 0s 2ms/step - loss: 0.6287 - accuracy: 0.8194\n",
            "Epoch 24/130\n",
            "7/7 [==============================] - 0s 2ms/step - loss: 0.6028 - accuracy: 0.8121\n",
            "Epoch 25/130\n",
            "7/7 [==============================] - 0s 2ms/step - loss: 0.6231 - accuracy: 0.8127\n",
            "Epoch 26/130\n",
            "7/7 [==============================] - 0s 2ms/step - loss: 0.5992 - accuracy: 0.7992\n",
            "Epoch 27/130\n",
            "7/7 [==============================] - 0s 2ms/step - loss: 0.6047 - accuracy: 0.8124\n",
            "Epoch 28/130\n",
            "7/7 [==============================] - 0s 2ms/step - loss: 0.6077 - accuracy: 0.8015\n",
            "Epoch 29/130\n",
            "7/7 [==============================] - 0s 2ms/step - loss: 0.5887 - accuracy: 0.8104\n",
            "Epoch 30/130\n",
            "7/7 [==============================] - 0s 2ms/step - loss: 0.5537 - accuracy: 0.8351\n",
            "Epoch 31/130\n",
            "7/7 [==============================] - 0s 2ms/step - loss: 0.5763 - accuracy: 0.8190\n",
            "Epoch 32/130\n",
            "7/7 [==============================] - 0s 2ms/step - loss: 0.5666 - accuracy: 0.8115\n",
            "Epoch 33/130\n",
            "7/7 [==============================] - 0s 2ms/step - loss: 0.5475 - accuracy: 0.8043\n",
            "Epoch 34/130\n",
            "7/7 [==============================] - 0s 2ms/step - loss: 0.5372 - accuracy: 0.8193\n",
            "Epoch 35/130\n",
            "7/7 [==============================] - 0s 2ms/step - loss: 0.5734 - accuracy: 0.8058\n",
            "Epoch 36/130\n",
            "7/7 [==============================] - 0s 2ms/step - loss: 0.5213 - accuracy: 0.8350\n",
            "Epoch 37/130\n",
            "7/7 [==============================] - 0s 2ms/step - loss: 0.5212 - accuracy: 0.8242\n",
            "Epoch 38/130\n",
            "7/7 [==============================] - 0s 2ms/step - loss: 0.5157 - accuracy: 0.8226\n",
            "Epoch 39/130\n",
            "7/7 [==============================] - 0s 3ms/step - loss: 0.5279 - accuracy: 0.8137\n",
            "Epoch 40/130\n",
            "7/7 [==============================] - 0s 2ms/step - loss: 0.5104 - accuracy: 0.8197\n",
            "Epoch 41/130\n",
            "7/7 [==============================] - 0s 2ms/step - loss: 0.5086 - accuracy: 0.8108\n",
            "Epoch 42/130\n",
            "7/7 [==============================] - 0s 2ms/step - loss: 0.5049 - accuracy: 0.8225\n",
            "Epoch 43/130\n",
            "7/7 [==============================] - 0s 2ms/step - loss: 0.5413 - accuracy: 0.7831\n",
            "Epoch 44/130\n",
            "7/7 [==============================] - 0s 2ms/step - loss: 0.5286 - accuracy: 0.8052\n",
            "Epoch 45/130\n",
            "7/7 [==============================] - 0s 2ms/step - loss: 0.5442 - accuracy: 0.7786\n",
            "Epoch 46/130\n",
            "7/7 [==============================] - 0s 2ms/step - loss: 0.5178 - accuracy: 0.8185\n",
            "Epoch 47/130\n",
            "7/7 [==============================] - 0s 2ms/step - loss: 0.5141 - accuracy: 0.7853\n",
            "Epoch 48/130\n",
            "7/7 [==============================] - 0s 2ms/step - loss: 0.4787 - accuracy: 0.8226\n",
            "Epoch 49/130\n",
            "7/7 [==============================] - 0s 2ms/step - loss: 0.5077 - accuracy: 0.8184\n",
            "Epoch 50/130\n",
            "7/7 [==============================] - 0s 2ms/step - loss: 0.4916 - accuracy: 0.7902\n",
            "Epoch 51/130\n",
            "7/7 [==============================] - 0s 2ms/step - loss: 0.4702 - accuracy: 0.8242\n",
            "Epoch 52/130\n",
            "7/7 [==============================] - 0s 1ms/step - loss: 0.4823 - accuracy: 0.8056\n",
            "Epoch 53/130\n",
            "7/7 [==============================] - 0s 2ms/step - loss: 0.5237 - accuracy: 0.8247\n",
            "Epoch 54/130\n",
            "7/7 [==============================] - 0s 2ms/step - loss: 0.5001 - accuracy: 0.8203\n",
            "Epoch 55/130\n",
            "7/7 [==============================] - 0s 2ms/step - loss: 0.4494 - accuracy: 0.8234\n",
            "Epoch 56/130\n",
            "7/7 [==============================] - 0s 2ms/step - loss: 0.4452 - accuracy: 0.8337\n",
            "Epoch 57/130\n",
            "7/7 [==============================] - 0s 2ms/step - loss: 0.4885 - accuracy: 0.7982\n",
            "Epoch 58/130\n",
            "7/7 [==============================] - 0s 3ms/step - loss: 0.4627 - accuracy: 0.8229\n",
            "Epoch 59/130\n",
            "7/7 [==============================] - 0s 2ms/step - loss: 0.4501 - accuracy: 0.8249\n",
            "Epoch 60/130\n",
            "7/7 [==============================] - 0s 2ms/step - loss: 0.4852 - accuracy: 0.7930\n",
            "Epoch 61/130\n",
            "7/7 [==============================] - 0s 3ms/step - loss: 0.4639 - accuracy: 0.8152\n",
            "Epoch 62/130\n",
            "7/7 [==============================] - 0s 3ms/step - loss: 0.4617 - accuracy: 0.8066\n",
            "Epoch 63/130\n",
            "7/7 [==============================] - 0s 2ms/step - loss: 0.4779 - accuracy: 0.8291\n",
            "Epoch 64/130\n",
            "7/7 [==============================] - 0s 2ms/step - loss: 0.4753 - accuracy: 0.8161\n",
            "Epoch 65/130\n",
            "7/7 [==============================] - 0s 2ms/step - loss: 0.4946 - accuracy: 0.8116\n",
            "Epoch 66/130\n",
            "7/7 [==============================] - 0s 2ms/step - loss: 0.4482 - accuracy: 0.8064\n",
            "Epoch 67/130\n",
            "7/7 [==============================] - 0s 2ms/step - loss: 0.5026 - accuracy: 0.8146\n",
            "Epoch 68/130\n",
            "7/7 [==============================] - 0s 2ms/step - loss: 0.4206 - accuracy: 0.8415\n",
            "Epoch 69/130\n",
            "7/7 [==============================] - 0s 2ms/step - loss: 0.4338 - accuracy: 0.8449\n",
            "Epoch 70/130\n",
            "7/7 [==============================] - 0s 2ms/step - loss: 0.4195 - accuracy: 0.8353\n",
            "Epoch 71/130\n",
            "7/7 [==============================] - 0s 2ms/step - loss: 0.4648 - accuracy: 0.8171\n",
            "Epoch 72/130\n",
            "7/7 [==============================] - 0s 2ms/step - loss: 0.4502 - accuracy: 0.8215\n",
            "Epoch 73/130\n",
            "7/7 [==============================] - 0s 2ms/step - loss: 0.4308 - accuracy: 0.8106\n",
            "Epoch 74/130\n",
            "7/7 [==============================] - 0s 2ms/step - loss: 0.4815 - accuracy: 0.8132\n",
            "Epoch 75/130\n",
            "7/7 [==============================] - 0s 2ms/step - loss: 0.4857 - accuracy: 0.8061\n",
            "Epoch 76/130\n",
            "7/7 [==============================] - 0s 2ms/step - loss: 0.4622 - accuracy: 0.8226\n",
            "Epoch 77/130\n",
            "7/7 [==============================] - 0s 2ms/step - loss: 0.4433 - accuracy: 0.8202\n",
            "Epoch 78/130\n",
            "7/7 [==============================] - 0s 2ms/step - loss: 0.4038 - accuracy: 0.8347\n",
            "Epoch 79/130\n",
            "7/7 [==============================] - 0s 2ms/step - loss: 0.4406 - accuracy: 0.8226\n",
            "Epoch 80/130\n",
            "7/7 [==============================] - 0s 2ms/step - loss: 0.4504 - accuracy: 0.7872\n",
            "Epoch 81/130\n",
            "7/7 [==============================] - 0s 2ms/step - loss: 0.4708 - accuracy: 0.8047\n",
            "Epoch 82/130\n",
            "7/7 [==============================] - 0s 2ms/step - loss: 0.4542 - accuracy: 0.7959\n",
            "Epoch 83/130\n",
            "7/7 [==============================] - 0s 2ms/step - loss: 0.4139 - accuracy: 0.8192\n",
            "Epoch 84/130\n",
            "7/7 [==============================] - 0s 2ms/step - loss: 0.4462 - accuracy: 0.8205\n",
            "Epoch 85/130\n",
            "7/7 [==============================] - 0s 2ms/step - loss: 0.4362 - accuracy: 0.8182\n",
            "Epoch 86/130\n",
            "7/7 [==============================] - 0s 2ms/step - loss: 0.4610 - accuracy: 0.7985\n",
            "Epoch 87/130\n",
            "7/7 [==============================] - 0s 2ms/step - loss: 0.4812 - accuracy: 0.8057\n",
            "Epoch 88/130\n",
            "7/7 [==============================] - 0s 3ms/step - loss: 0.4232 - accuracy: 0.8244\n",
            "Epoch 89/130\n",
            "7/7 [==============================] - 0s 2ms/step - loss: 0.4527 - accuracy: 0.8217\n",
            "Epoch 90/130\n",
            "7/7 [==============================] - 0s 2ms/step - loss: 0.4157 - accuracy: 0.8324\n",
            "Epoch 91/130\n",
            "7/7 [==============================] - 0s 2ms/step - loss: 0.4771 - accuracy: 0.8211\n",
            "Epoch 92/130\n",
            "7/7 [==============================] - 0s 2ms/step - loss: 0.4039 - accuracy: 0.8228\n",
            "Epoch 93/130\n",
            "7/7 [==============================] - 0s 2ms/step - loss: 0.4229 - accuracy: 0.8183\n",
            "Epoch 94/130\n",
            "7/7 [==============================] - 0s 2ms/step - loss: 0.4137 - accuracy: 0.8187\n",
            "Epoch 95/130\n",
            "7/7 [==============================] - 0s 2ms/step - loss: 0.4411 - accuracy: 0.8141\n",
            "Epoch 96/130\n",
            "7/7 [==============================] - 0s 2ms/step - loss: 0.4658 - accuracy: 0.7929\n",
            "Epoch 97/130\n",
            "7/7 [==============================] - 0s 2ms/step - loss: 0.4269 - accuracy: 0.7963\n",
            "Epoch 98/130\n",
            "7/7 [==============================] - 0s 2ms/step - loss: 0.4937 - accuracy: 0.8068\n",
            "Epoch 99/130\n",
            "7/7 [==============================] - 0s 3ms/step - loss: 0.4018 - accuracy: 0.8272\n",
            "Epoch 100/130\n",
            "7/7 [==============================] - 0s 2ms/step - loss: 0.4280 - accuracy: 0.8252\n",
            "Epoch 101/130\n",
            "7/7 [==============================] - 0s 2ms/step - loss: 0.4111 - accuracy: 0.8266\n",
            "Epoch 102/130\n",
            "7/7 [==============================] - 0s 2ms/step - loss: 0.4052 - accuracy: 0.8187\n",
            "Epoch 103/130\n",
            "7/7 [==============================] - 0s 2ms/step - loss: 0.4061 - accuracy: 0.8300\n",
            "Epoch 104/130\n",
            "7/7 [==============================] - 0s 2ms/step - loss: 0.4207 - accuracy: 0.7978\n",
            "Epoch 105/130\n",
            "7/7 [==============================] - 0s 2ms/step - loss: 0.4534 - accuracy: 0.7980\n",
            "Epoch 106/130\n",
            "7/7 [==============================] - 0s 2ms/step - loss: 0.4303 - accuracy: 0.8120\n",
            "Epoch 107/130\n",
            "7/7 [==============================] - 0s 2ms/step - loss: 0.4019 - accuracy: 0.8368\n",
            "Epoch 108/130\n",
            "7/7 [==============================] - 0s 2ms/step - loss: 0.4117 - accuracy: 0.8071\n",
            "Epoch 109/130\n",
            "7/7 [==============================] - 0s 2ms/step - loss: 0.4644 - accuracy: 0.8036\n",
            "Epoch 110/130\n",
            "7/7 [==============================] - 0s 2ms/step - loss: 0.4485 - accuracy: 0.8057\n",
            "Epoch 111/130\n",
            "7/7 [==============================] - 0s 2ms/step - loss: 0.4353 - accuracy: 0.8134\n",
            "Epoch 112/130\n",
            "7/7 [==============================] - 0s 2ms/step - loss: 0.3951 - accuracy: 0.8288\n",
            "Epoch 113/130\n",
            "7/7 [==============================] - 0s 2ms/step - loss: 0.4108 - accuracy: 0.8189\n",
            "Epoch 114/130\n",
            "7/7 [==============================] - 0s 2ms/step - loss: 0.4278 - accuracy: 0.8182\n",
            "Epoch 115/130\n",
            "7/7 [==============================] - 0s 2ms/step - loss: 0.4187 - accuracy: 0.8128\n",
            "Epoch 116/130\n",
            "7/7 [==============================] - 0s 2ms/step - loss: 0.4025 - accuracy: 0.8302\n",
            "Epoch 117/130\n",
            "7/7 [==============================] - 0s 2ms/step - loss: 0.4369 - accuracy: 0.7949\n",
            "Epoch 118/130\n",
            "7/7 [==============================] - 0s 2ms/step - loss: 0.4415 - accuracy: 0.8145\n",
            "Epoch 119/130\n",
            "7/7 [==============================] - 0s 2ms/step - loss: 0.4498 - accuracy: 0.8102\n",
            "Epoch 120/130\n",
            "7/7 [==============================] - 0s 3ms/step - loss: 0.4088 - accuracy: 0.8110\n",
            "Epoch 121/130\n",
            "7/7 [==============================] - 0s 2ms/step - loss: 0.3818 - accuracy: 0.8240\n",
            "Epoch 122/130\n",
            "7/7 [==============================] - 0s 2ms/step - loss: 0.4138 - accuracy: 0.8247\n",
            "Epoch 123/130\n",
            "7/7 [==============================] - 0s 2ms/step - loss: 0.4036 - accuracy: 0.8133\n",
            "Epoch 124/130\n",
            "7/7 [==============================] - 0s 2ms/step - loss: 0.3937 - accuracy: 0.8200\n",
            "Epoch 125/130\n",
            "7/7 [==============================] - 0s 2ms/step - loss: 0.3846 - accuracy: 0.8260\n",
            "Epoch 126/130\n",
            "7/7 [==============================] - 0s 2ms/step - loss: 0.4082 - accuracy: 0.8063\n",
            "Epoch 127/130\n",
            "7/7 [==============================] - 0s 2ms/step - loss: 0.3906 - accuracy: 0.8417\n",
            "Epoch 128/130\n",
            "7/7 [==============================] - 0s 2ms/step - loss: 0.4231 - accuracy: 0.8074\n",
            "Epoch 129/130\n",
            "7/7 [==============================] - 0s 2ms/step - loss: 0.3913 - accuracy: 0.8211\n",
            "Epoch 130/130\n",
            "7/7 [==============================] - 0s 2ms/step - loss: 0.4488 - accuracy: 0.8099\n"
          ],
          "name": "stdout"
        }
      ]
    },
    {
      "cell_type": "code",
      "metadata": {
        "colab": {
          "base_uri": "https://localhost:8080/",
          "height": 573
        },
        "id": "xLyEkjNc82Jr",
        "outputId": "8b2e06ee-6096-4b92-f387-460e8797483a"
      },
      "source": [
        "import matplotlib.pyplot as plt\r\n",
        "plt.plot(history.history['loss'])\r\n",
        "plt.title('Model loss')\r\n",
        "plt.ylabel('Loss')\r\n",
        "plt.xlabel('Epoch')\r\n",
        "plt.legend(['Train', 'Val'], loc='upper right')\r\n",
        "plt.show()\r\n",
        "plt.plot(history.history['accuracy'])\r\n",
        "plt.title('Model accuracy')\r\n",
        "plt.ylabel('Accuracy')\r\n",
        "plt.xlabel('Epoch')\r\n",
        "plt.legend(['Train', 'Val'], loc='lower right')\r\n",
        "plt.show()"
      ],
      "execution_count": null,
      "outputs": [
        {
          "output_type": "display_data",
          "data": {
            "image/png": "[encoded data removed]",
            "text/plain": [
              "<Figure size 432x288 with 1 Axes>"
            ]
          },
          "metadata": {
            "tags": [],
            "needs_background": "light"
          }
        },
        {
          "output_type": "display_data",
          "data": {
            "image/png": "[encoded data removed]",
            "text/plain": [
              "<Figure size 432x288 with 1 Axes>"
            ]
          },
          "metadata": {
            "tags": [],
            "needs_background": "light"
          }
        }
      ]
    },
    {
      "cell_type": "code",
      "metadata": {
        "colab": {
          "base_uri": "https://localhost:8080/"
        },
        "id": "byVAZ_zhwx88",
        "outputId": "e5071672-23eb-41e2-e06b-c3a91ccac891"
      },
      "source": [
        "model.evaluate(X_test, y_test)[1]\r\n",
        "#評估準確度 [1]=accuracy [0]=loss\r\n",
        "#print(X_train.shape,X_test.shape,y_train.shape,y_test.shape)"
      ],
      "execution_count": null,
      "outputs": [
        {
          "output_type": "stream",
          "text": [
            "2/2 [==============================] - 0s 5ms/step - loss: 1.7132 - accuracy: 0.7708\n"
          ],
          "name": "stdout"
        },
        {
          "output_type": "execute_result",
          "data": {
            "text/plain": [
              "0.7708333134651184"
            ]
          },
          "metadata": {
            "tags": []
          },
          "execution_count": 13
        }
      ]
    }
  ]
}