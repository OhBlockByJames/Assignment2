{
  "nbformat": 4,
  "nbformat_minor": 0,
  "metadata": {
    "colab": {
      "name": "Assignment2_ver2.1.ipynb",
      "provenance": [],
      "collapsed_sections": [],
      "include_colab_link": true
    },
    "kernelspec": {
      "name": "python3",
      "display_name": "Python 3"
    }
  },
  "cells": [
    {
      "cell_type": "markdown",
      "metadata": {
        "id": "view-in-github",
        "colab_type": "text"
      },
      "source": [
        "<a href=\"https://colab.research.google.com/github/OhBlockByJames/Assignment2/blob/main/Assignment2_ver2_1.ipynb\" target=\"_parent\"><img src=\"https://colab.research.google.com/assets/colab-badge.svg\" alt=\"Open In Colab\"/></a>"
      ]
    },
    {
      "cell_type": "code",
      "metadata": {
        "id": "9OELh4qogfLt"
      },
      "source": [
        "import numpy as np \r\n",
        "import keras \r\n",
        "from keras.models import Sequential\r\n",
        "from keras.datasets import mnist\r\n",
        "from keras.layers import Dense, Dropout, Activation, Flatten\r\n",
        "from keras.utils import np_utils  # 用來後續將label標籤轉為one-hot-encoding  \r\n",
        "from matplotlib import pyplot as plt\r\n",
        "import pandas as pd\r\n",
        "import tensorflow as tf\r\n",
        "from google.colab import files\r\n",
        "import io"
      ],
      "execution_count": null,
      "outputs": []
    },
    {
      "cell_type": "code",
      "metadata": {
        "colab": {
          "resources": {
            "http://localhost:8080/nbextensions/google.colab/files.js": {
              "data": "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",
              "ok": true,
              "headers": [
                [
                  "content-type",
                  "application/javascript"
                ]
              ],
              "status": 200,
              "status_text": ""
            }
          },
          "base_uri": "https://localhost:8080/",
          "height": 324
        },
        "id": "YeKdyNutgfxu",
        "outputId": "f5c3ec90-9c59-4694-9124-e3ef557b2a3b"
      },
      "source": [
        "uploaded = files.upload()\r\n",
        "df = pd.read_csv(io.BytesIO(uploaded['train_all.csv']))\r\n",
        "print(df)"
      ],
      "execution_count": null,
      "outputs": [
        {
          "output_type": "display_data",
          "data": {
            "text/html": [
              "\n",
              "     <input type=\"file\" id=\"files-4d5fe19a-d28b-4983-a1a3-32f7956d1079\" name=\"files[]\" multiple disabled\n",
              "        style=\"border:none\" />\n",
              "     <output id=\"result-4d5fe19a-d28b-4983-a1a3-32f7956d1079\">\n",
              "      Upload widget is only available when the cell has been executed in the\n",
              "      current browser session. Please rerun this cell to enable.\n",
              "      </output>\n",
              "      <script src=\"/nbextensions/google.colab/files.js\"></script> "
            ],
            "text/plain": [
              "<IPython.core.display.HTML object>"
            ]
          },
          "metadata": {
            "tags": []
          }
        },
        {
          "output_type": "stream",
          "text": [
            "Saving train_all.csv to train_all.csv\n",
            "           X1        X2        X3        X4  ...       X10       X11       X12  Y\n",
            "0   -0.002390 -0.002091  0.001010 -0.002171  ...  0.000004  0.001011  0.000984 -1\n",
            "1   -0.002484 -0.002170  0.000752  0.000790  ...  0.000003  0.001013  0.000981 -1\n",
            "2   -0.002752 -0.002469  0.000998  0.002989  ...  0.000004  0.001038  0.000988 -1\n",
            "3   -0.002925 -0.002657  0.001240  0.003282  ...  0.000006  0.001069  0.001009  1\n",
            "4   -0.003050 -0.002783  0.001476  0.000550  ...  0.000007  0.001051  0.001009  1\n",
            "..        ...       ...       ...       ...  ...       ...       ...       ... ..\n",
            "475 -0.001887 -0.001211  0.000661 -0.000645  ...  0.000685  0.001134  0.001385  1\n",
            "476 -0.001840 -0.001211  0.000724 -0.000030  ...  0.000644  0.001229  0.001433  1\n",
            "477 -0.002028 -0.001431  0.000122  0.002421  ...  0.000688  0.001356  0.001481  1\n",
            "478 -0.001761 -0.001289  0.000528  0.000795  ...  0.000923  0.001439  0.001572  1\n",
            "479 -0.001698 -0.001352  0.000317  0.000710  ...  0.000633  0.001285  0.001546  1\n",
            "\n",
            "[480 rows x 13 columns]\n"
          ],
          "name": "stdout"
        }
      ]
    },
    {
      "cell_type": "code",
      "metadata": {
        "colab": {
          "base_uri": "https://localhost:8080/"
        },
        "id": "m02FydvLgrrP",
        "outputId": "de1c5e9c-a5f3-42d4-b314-4bc2cac16231"
      },
      "source": [
        "dataset = df.values\r\n",
        "print(dataset)"
      ],
      "execution_count": null,
      "outputs": [
        {
          "output_type": "stream",
          "text": [
            "[[-2.389937e-03 -2.091195e-03  1.009520e-03 ...  1.010757e-03\n",
            "   9.836760e-04 -1.000000e+00]\n",
            " [-2.484277e-03 -2.169811e-03  7.523100e-04 ...  1.013102e-03\n",
            "   9.806900e-04 -1.000000e+00]\n",
            " [-2.751572e-03 -2.468553e-03  9.983030e-04 ...  1.038154e-03\n",
            "   9.883500e-04 -1.000000e+00]\n",
            " ...\n",
            " [-2.028302e-03 -1.430818e-03  1.218850e-04 ...  1.356135e-03\n",
            "   1.481274e-03  1.000000e+00]\n",
            " [-1.761006e-03 -1.289308e-03  5.279710e-04 ...  1.439037e-03\n",
            "   1.572327e-03  1.000000e+00]\n",
            " [-1.698113e-03 -1.352201e-03  3.171210e-04 ...  1.285156e-03\n",
            "   1.545728e-03  1.000000e+00]]\n"
          ],
          "name": "stdout"
        }
      ]
    },
    {
      "cell_type": "code",
      "metadata": {
        "colab": {
          "base_uri": "https://localhost:8080/"
        },
        "id": "nIbv78xGozd4",
        "outputId": "0148c4d8-bacb-458e-bfe2-375e1f82edf5"
      },
      "source": [
        "X = dataset[:,0:12]\r\n",
        "Y = dataset[:,12:13]\r\n",
        "from sklearn import preprocessing\r\n",
        "sc = preprocessing.StandardScaler()\r\n",
        "X = sc.fit_transform(X)\r\n",
        "print(X)\r\n",
        "\r\n",
        "# from sklearn.preprocessing import StandardScaler\r\n",
        "# sc = StandardScaler()\r\n",
        "# X = sc.fit_transform(X)\r\n",
        "\r\n",
        "from sklearn.preprocessing import OneHotEncoder\r\n",
        "ohe = OneHotEncoder()\r\n",
        "Y = ohe.fit_transform(Y).toarray()\r\n",
        "#This creates a binary column for each category and returns a sparse matrix or dense array"
      ],
      "execution_count": null,
      "outputs": [
        {
          "output_type": "stream",
          "text": [
            "[[ 0.21458695  0.00801811  1.09461625 ... -0.86367769 -0.3053205\n",
            "  -0.42676683]\n",
            " [ 0.1661761  -0.04275725  0.58791473 ... -0.86531765 -0.29243074\n",
            "  -0.44068604]\n",
            " [ 0.02901291 -0.23570443  1.07251886 ... -0.86172124 -0.15472743\n",
            "  -0.40497902]\n",
            " ...\n",
            " [ 0.40016099  0.4345329  -0.65401719 ...  1.10409399  1.59311855\n",
            "   1.89278171]\n",
            " [ 0.5373247   0.52592934  0.14596879 ...  1.78208354  2.04880592\n",
            "   2.31722443]\n",
            " [ 0.56959842  0.48530891 -0.26940392 ...  0.94709485  1.20296832\n",
            "   2.19323344]]\n"
          ],
          "name": "stdout"
        }
      ]
    },
    {
      "cell_type": "code",
      "metadata": {
        "id": "KrTXQ74g0oCB",
        "colab": {
          "base_uri": "https://localhost:8080/"
        },
        "outputId": "ea7042cd-634a-481a-f451-e37bf3908af7"
      },
      "source": [
        "from sklearn.model_selection import train_test_split\r\n",
        "X_train,X_test,y_train,y_test = train_test_split(X,Y,test_size = 0.1)\r\n",
        "print(X_train.shape,X_test.shape,y_train.shape,y_test.shape)"
      ],
      "execution_count": null,
      "outputs": [
        {
          "output_type": "stream",
          "text": [
            "(432, 12) (48, 12) (432, 2) (48, 2)\n"
          ],
          "name": "stdout"
        }
      ]
    },
    {
      "cell_type": "code",
      "metadata": {
        "id": "xPsbk-lDsahu"
      },
      "source": [
        "model = Sequential()\r\n",
        "#Dense 代表是 fully connected\r\n",
        "model.add(Dense(20, input_dim=12, activation='relu'))\r\n",
        "model.add(Dense(2))\r\n",
        "#output layer has 2 nodes\r\n"
      ],
      "execution_count": null,
      "outputs": []
    },
    {
      "cell_type": "code",
      "metadata": {
        "id": "1CzWKubJutXy"
      },
      "source": [
        "from keras import initializers\r\n",
        "#op = keras.optimizers.SGD(learning_rate=0.000)\r\n",
        "op = keras.optimizers.Adadelta(learning_rate=1)\r\n",
        "#op = keras.optimizers.SGD(lr=0.01, decay=1e-6, momentum=0.99, nesterov=True)\r\n",
        "#op = keras.optimizers.SGD(momentum=0.99, nesterov=True)\r\n",
        "model.compile(loss='binary_crossentropy', optimizer=op, metrics=['accuracy'])\r\n"
      ],
      "execution_count": null,
      "outputs": []
    },
    {
      "cell_type": "code",
      "metadata": {
        "colab": {
          "base_uri": "https://localhost:8080/"
        },
        "id": "wkw0c5U8xoC7",
        "outputId": "52a5b0d2-a542-4c2a-a64b-ef5ca69307af"
      },
      "source": [
        "history = model.fit(X_train, y_train, epochs=200, batch_size=48)"
      ],
      "execution_count": null,
      "outputs": [
        {
          "output_type": "stream",
          "text": [
            "Epoch 1/200\n",
            "9/9 [==============================] - 0s 2ms/step - loss: 4.4965 - accuracy: 0.5958\n",
            "Epoch 2/200\n",
            "9/9 [==============================] - 0s 1ms/step - loss: 4.7616 - accuracy: 0.5902\n",
            "Epoch 3/200\n",
            "9/9 [==============================] - 0s 2ms/step - loss: 4.6647 - accuracy: 0.5862\n",
            "Epoch 4/200\n",
            "9/9 [==============================] - 0s 1ms/step - loss: 4.6981 - accuracy: 0.6408\n",
            "Epoch 5/200\n",
            "9/9 [==============================] - 0s 1ms/step - loss: 3.9226 - accuracy: 0.6939\n",
            "Epoch 6/200\n",
            "9/9 [==============================] - 0s 1ms/step - loss: 3.8378 - accuracy: 0.6644\n",
            "Epoch 7/200\n",
            "9/9 [==============================] - 0s 1ms/step - loss: 3.2819 - accuracy: 0.6469\n",
            "Epoch 8/200\n",
            "9/9 [==============================] - 0s 2ms/step - loss: 2.9196 - accuracy: 0.7273\n",
            "Epoch 9/200\n",
            "9/9 [==============================] - 0s 2ms/step - loss: 2.4215 - accuracy: 0.7643\n",
            "Epoch 10/200\n",
            "9/9 [==============================] - 0s 2ms/step - loss: 2.3979 - accuracy: 0.7720\n",
            "Epoch 11/200\n",
            "9/9 [==============================] - 0s 1ms/step - loss: 2.2327 - accuracy: 0.8061\n",
            "Epoch 12/200\n",
            "9/9 [==============================] - 0s 1ms/step - loss: 2.2825 - accuracy: 0.7921\n",
            "Epoch 13/200\n",
            "9/9 [==============================] - 0s 1ms/step - loss: 2.1061 - accuracy: 0.7811\n",
            "Epoch 14/200\n",
            "9/9 [==============================] - 0s 2ms/step - loss: 2.0792 - accuracy: 0.8095\n",
            "Epoch 15/200\n",
            "9/9 [==============================] - 0s 2ms/step - loss: 2.1370 - accuracy: 0.7889\n",
            "Epoch 16/200\n",
            "9/9 [==============================] - 0s 1ms/step - loss: 1.7850 - accuracy: 0.8328\n",
            "Epoch 17/200\n",
            "9/9 [==============================] - 0s 2ms/step - loss: 1.8697 - accuracy: 0.8057\n",
            "Epoch 18/200\n",
            "9/9 [==============================] - 0s 2ms/step - loss: 2.0845 - accuracy: 0.8067\n",
            "Epoch 19/200\n",
            "9/9 [==============================] - 0s 2ms/step - loss: 1.9073 - accuracy: 0.8041\n",
            "Epoch 20/200\n",
            "9/9 [==============================] - 0s 2ms/step - loss: 2.1416 - accuracy: 0.7887\n",
            "Epoch 21/200\n",
            "9/9 [==============================] - 0s 2ms/step - loss: 1.7442 - accuracy: 0.8272\n",
            "Epoch 22/200\n",
            "9/9 [==============================] - 0s 2ms/step - loss: 1.8318 - accuracy: 0.8153\n",
            "Epoch 23/200\n",
            "9/9 [==============================] - 0s 2ms/step - loss: 1.7276 - accuracy: 0.8179\n",
            "Epoch 24/200\n",
            "9/9 [==============================] - 0s 1ms/step - loss: 1.5881 - accuracy: 0.8164\n",
            "Epoch 25/200\n",
            "9/9 [==============================] - 0s 2ms/step - loss: 1.7924 - accuracy: 0.7989\n",
            "Epoch 26/200\n",
            "9/9 [==============================] - 0s 1ms/step - loss: 1.5661 - accuracy: 0.8202\n",
            "Epoch 27/200\n",
            "9/9 [==============================] - 0s 1ms/step - loss: 1.7399 - accuracy: 0.7974\n",
            "Epoch 28/200\n",
            "9/9 [==============================] - 0s 1ms/step - loss: 1.6875 - accuracy: 0.8082\n",
            "Epoch 29/200\n",
            "9/9 [==============================] - 0s 2ms/step - loss: 1.7790 - accuracy: 0.8010\n",
            "Epoch 30/200\n",
            "9/9 [==============================] - 0s 1ms/step - loss: 1.5776 - accuracy: 0.8347\n",
            "Epoch 31/200\n",
            "9/9 [==============================] - 0s 1ms/step - loss: 1.5901 - accuracy: 0.8140\n",
            "Epoch 32/200\n",
            "9/9 [==============================] - 0s 3ms/step - loss: 1.3640 - accuracy: 0.8228\n",
            "Epoch 33/200\n",
            "9/9 [==============================] - 0s 2ms/step - loss: 1.4073 - accuracy: 0.8385\n",
            "Epoch 34/200\n",
            "9/9 [==============================] - 0s 2ms/step - loss: 1.5253 - accuracy: 0.8281\n",
            "Epoch 35/200\n",
            "9/9 [==============================] - 0s 2ms/step - loss: 1.6051 - accuracy: 0.8161\n",
            "Epoch 36/200\n",
            "9/9 [==============================] - 0s 2ms/step - loss: 1.4560 - accuracy: 0.8249\n",
            "Epoch 37/200\n",
            "9/9 [==============================] - 0s 2ms/step - loss: 1.3648 - accuracy: 0.8208\n",
            "Epoch 38/200\n",
            "9/9 [==============================] - 0s 2ms/step - loss: 1.5379 - accuracy: 0.8133\n",
            "Epoch 39/200\n",
            "9/9 [==============================] - 0s 2ms/step - loss: 1.5747 - accuracy: 0.7998\n",
            "Epoch 40/200\n",
            "9/9 [==============================] - 0s 2ms/step - loss: 1.3558 - accuracy: 0.8341\n",
            "Epoch 41/200\n",
            "9/9 [==============================] - 0s 2ms/step - loss: 1.4668 - accuracy: 0.8092\n",
            "Epoch 42/200\n",
            "9/9 [==============================] - 0s 2ms/step - loss: 1.4150 - accuracy: 0.8193\n",
            "Epoch 43/200\n",
            "9/9 [==============================] - 0s 2ms/step - loss: 1.4106 - accuracy: 0.8247\n",
            "Epoch 44/200\n",
            "9/9 [==============================] - 0s 2ms/step - loss: 1.2522 - accuracy: 0.8456\n",
            "Epoch 45/200\n",
            "9/9 [==============================] - 0s 2ms/step - loss: 1.2853 - accuracy: 0.8270\n",
            "Epoch 46/200\n",
            "9/9 [==============================] - 0s 2ms/step - loss: 1.3735 - accuracy: 0.8346\n",
            "Epoch 47/200\n",
            "9/9 [==============================] - 0s 2ms/step - loss: 1.4174 - accuracy: 0.8181\n",
            "Epoch 48/200\n",
            "9/9 [==============================] - 0s 2ms/step - loss: 1.2917 - accuracy: 0.8190\n",
            "Epoch 49/200\n",
            "9/9 [==============================] - 0s 2ms/step - loss: 1.2900 - accuracy: 0.8322\n",
            "Epoch 50/200\n",
            "9/9 [==============================] - 0s 2ms/step - loss: 1.3759 - accuracy: 0.8096\n",
            "Epoch 51/200\n",
            "9/9 [==============================] - 0s 2ms/step - loss: 1.2733 - accuracy: 0.8390\n",
            "Epoch 52/200\n",
            "9/9 [==============================] - 0s 2ms/step - loss: 1.4548 - accuracy: 0.8158\n",
            "Epoch 53/200\n",
            "9/9 [==============================] - 0s 2ms/step - loss: 1.1425 - accuracy: 0.8353\n",
            "Epoch 54/200\n",
            "9/9 [==============================] - 0s 2ms/step - loss: 0.9831 - accuracy: 0.8727\n",
            "Epoch 55/200\n",
            "9/9 [==============================] - 0s 2ms/step - loss: 1.2522 - accuracy: 0.8311\n",
            "Epoch 56/200\n",
            "9/9 [==============================] - 0s 2ms/step - loss: 1.4760 - accuracy: 0.7952\n",
            "Epoch 57/200\n",
            "9/9 [==============================] - 0s 2ms/step - loss: 1.1662 - accuracy: 0.8404\n",
            "Epoch 58/200\n",
            "9/9 [==============================] - 0s 2ms/step - loss: 1.0536 - accuracy: 0.8484\n",
            "Epoch 59/200\n",
            "9/9 [==============================] - 0s 2ms/step - loss: 1.1422 - accuracy: 0.8354\n",
            "Epoch 60/200\n",
            "9/9 [==============================] - 0s 2ms/step - loss: 1.1366 - accuracy: 0.8528\n",
            "Epoch 61/200\n",
            "9/9 [==============================] - 0s 2ms/step - loss: 1.0985 - accuracy: 0.8402\n",
            "Epoch 62/200\n",
            "9/9 [==============================] - 0s 2ms/step - loss: 1.2102 - accuracy: 0.8340\n",
            "Epoch 63/200\n",
            "9/9 [==============================] - 0s 2ms/step - loss: 1.0694 - accuracy: 0.8384\n",
            "Epoch 64/200\n",
            "9/9 [==============================] - 0s 2ms/step - loss: 1.2397 - accuracy: 0.8323\n",
            "Epoch 65/200\n",
            "9/9 [==============================] - 0s 2ms/step - loss: 1.1454 - accuracy: 0.8373\n",
            "Epoch 66/200\n",
            "9/9 [==============================] - 0s 2ms/step - loss: 1.2404 - accuracy: 0.8320\n",
            "Epoch 67/200\n",
            "9/9 [==============================] - 0s 2ms/step - loss: 1.2163 - accuracy: 0.8469\n",
            "Epoch 68/200\n",
            "9/9 [==============================] - 0s 2ms/step - loss: 1.1237 - accuracy: 0.8401\n",
            "Epoch 69/200\n",
            "9/9 [==============================] - 0s 2ms/step - loss: 1.0984 - accuracy: 0.8438\n",
            "Epoch 70/200\n",
            "9/9 [==============================] - 0s 2ms/step - loss: 1.0046 - accuracy: 0.8573\n",
            "Epoch 71/200\n",
            "9/9 [==============================] - 0s 2ms/step - loss: 1.1138 - accuracy: 0.8531\n",
            "Epoch 72/200\n",
            "9/9 [==============================] - 0s 2ms/step - loss: 1.2787 - accuracy: 0.8209\n",
            "Epoch 73/200\n",
            "9/9 [==============================] - 0s 2ms/step - loss: 0.9599 - accuracy: 0.8615\n",
            "Epoch 74/200\n",
            "9/9 [==============================] - 0s 2ms/step - loss: 1.2077 - accuracy: 0.8367\n",
            "Epoch 75/200\n",
            "9/9 [==============================] - 0s 2ms/step - loss: 1.0847 - accuracy: 0.8440\n",
            "Epoch 76/200\n",
            "9/9 [==============================] - 0s 2ms/step - loss: 1.0423 - accuracy: 0.8524\n",
            "Epoch 77/200\n",
            "9/9 [==============================] - 0s 2ms/step - loss: 1.2103 - accuracy: 0.8296\n",
            "Epoch 78/200\n",
            "9/9 [==============================] - 0s 1ms/step - loss: 0.8830 - accuracy: 0.8848\n",
            "Epoch 79/200\n",
            "9/9 [==============================] - 0s 2ms/step - loss: 1.0499 - accuracy: 0.8492\n",
            "Epoch 80/200\n",
            "9/9 [==============================] - 0s 2ms/step - loss: 1.0935 - accuracy: 0.8552\n",
            "Epoch 81/200\n",
            "9/9 [==============================] - 0s 2ms/step - loss: 0.8854 - accuracy: 0.8722\n",
            "Epoch 82/200\n",
            "9/9 [==============================] - 0s 2ms/step - loss: 0.9254 - accuracy: 0.8894\n",
            "Epoch 83/200\n",
            "9/9 [==============================] - 0s 2ms/step - loss: 1.1087 - accuracy: 0.8629\n",
            "Epoch 84/200\n",
            "9/9 [==============================] - 0s 1ms/step - loss: 0.9042 - accuracy: 0.8703\n",
            "Epoch 85/200\n",
            "9/9 [==============================] - 0s 2ms/step - loss: 1.1041 - accuracy: 0.8687\n",
            "Epoch 86/200\n",
            "9/9 [==============================] - 0s 2ms/step - loss: 0.9396 - accuracy: 0.8793\n",
            "Epoch 87/200\n",
            "9/9 [==============================] - 0s 2ms/step - loss: 0.9103 - accuracy: 0.8735\n",
            "Epoch 88/200\n",
            "9/9 [==============================] - 0s 2ms/step - loss: 1.0645 - accuracy: 0.8624\n",
            "Epoch 89/200\n",
            "9/9 [==============================] - 0s 2ms/step - loss: 0.8724 - accuracy: 0.8934\n",
            "Epoch 90/200\n",
            "9/9 [==============================] - 0s 2ms/step - loss: 1.1434 - accuracy: 0.8533\n",
            "Epoch 91/200\n",
            "9/9 [==============================] - 0s 2ms/step - loss: 0.9887 - accuracy: 0.8779\n",
            "Epoch 92/200\n",
            "9/9 [==============================] - 0s 2ms/step - loss: 1.0402 - accuracy: 0.8640\n",
            "Epoch 93/200\n",
            "9/9 [==============================] - 0s 2ms/step - loss: 1.0835 - accuracy: 0.8626\n",
            "Epoch 94/200\n",
            "9/9 [==============================] - 0s 2ms/step - loss: 0.9564 - accuracy: 0.8733\n",
            "Epoch 95/200\n",
            "9/9 [==============================] - 0s 2ms/step - loss: 0.9264 - accuracy: 0.8716\n",
            "Epoch 96/200\n",
            "9/9 [==============================] - 0s 2ms/step - loss: 1.0240 - accuracy: 0.8574\n",
            "Epoch 97/200\n",
            "9/9 [==============================] - 0s 2ms/step - loss: 1.0435 - accuracy: 0.8665\n",
            "Epoch 98/200\n",
            "9/9 [==============================] - 0s 2ms/step - loss: 0.9876 - accuracy: 0.8663\n",
            "Epoch 99/200\n",
            "9/9 [==============================] - 0s 2ms/step - loss: 0.9482 - accuracy: 0.8771\n",
            "Epoch 100/200\n",
            "9/9 [==============================] - 0s 2ms/step - loss: 0.7585 - accuracy: 0.9004\n",
            "Epoch 101/200\n",
            "9/9 [==============================] - 0s 2ms/step - loss: 0.9406 - accuracy: 0.8693\n",
            "Epoch 102/200\n",
            "9/9 [==============================] - 0s 2ms/step - loss: 0.9433 - accuracy: 0.8770\n",
            "Epoch 103/200\n",
            "9/9 [==============================] - 0s 2ms/step - loss: 0.9144 - accuracy: 0.8653\n",
            "Epoch 104/200\n",
            "9/9 [==============================] - 0s 3ms/step - loss: 0.9324 - accuracy: 0.8578\n",
            "Epoch 105/200\n",
            "9/9 [==============================] - 0s 2ms/step - loss: 0.8594 - accuracy: 0.8805\n",
            "Epoch 106/200\n",
            "9/9 [==============================] - 0s 2ms/step - loss: 0.8270 - accuracy: 0.8790\n",
            "Epoch 107/200\n",
            "9/9 [==============================] - 0s 2ms/step - loss: 0.9670 - accuracy: 0.8566\n",
            "Epoch 108/200\n",
            "9/9 [==============================] - 0s 2ms/step - loss: 0.7639 - accuracy: 0.8903\n",
            "Epoch 109/200\n",
            "9/9 [==============================] - 0s 2ms/step - loss: 0.7533 - accuracy: 0.8779\n",
            "Epoch 110/200\n",
            "9/9 [==============================] - 0s 2ms/step - loss: 0.7402 - accuracy: 0.8792\n",
            "Epoch 111/200\n",
            "9/9 [==============================] - 0s 2ms/step - loss: 0.7207 - accuracy: 0.8965\n",
            "Epoch 112/200\n",
            "9/9 [==============================] - 0s 2ms/step - loss: 0.8474 - accuracy: 0.8756\n",
            "Epoch 113/200\n",
            "9/9 [==============================] - 0s 2ms/step - loss: 0.8496 - accuracy: 0.8733\n",
            "Epoch 114/200\n",
            "9/9 [==============================] - 0s 2ms/step - loss: 0.7242 - accuracy: 0.8937\n",
            "Epoch 115/200\n",
            "9/9 [==============================] - 0s 2ms/step - loss: 0.8243 - accuracy: 0.8775\n",
            "Epoch 116/200\n",
            "9/9 [==============================] - 0s 2ms/step - loss: 0.7468 - accuracy: 0.8919\n",
            "Epoch 117/200\n",
            "9/9 [==============================] - 0s 2ms/step - loss: 0.8163 - accuracy: 0.8805\n",
            "Epoch 118/200\n",
            "9/9 [==============================] - 0s 3ms/step - loss: 0.7113 - accuracy: 0.8975\n",
            "Epoch 119/200\n",
            "9/9 [==============================] - 0s 2ms/step - loss: 0.7621 - accuracy: 0.8828\n",
            "Epoch 120/200\n",
            "9/9 [==============================] - 0s 2ms/step - loss: 0.7158 - accuracy: 0.8922\n",
            "Epoch 121/200\n",
            "9/9 [==============================] - 0s 2ms/step - loss: 0.6964 - accuracy: 0.8832\n",
            "Epoch 122/200\n",
            "9/9 [==============================] - 0s 2ms/step - loss: 0.7449 - accuracy: 0.8861\n",
            "Epoch 123/200\n",
            "9/9 [==============================] - 0s 1ms/step - loss: 0.8027 - accuracy: 0.8717\n",
            "Epoch 124/200\n",
            "9/9 [==============================] - 0s 2ms/step - loss: 0.7937 - accuracy: 0.8705\n",
            "Epoch 125/200\n",
            "9/9 [==============================] - 0s 2ms/step - loss: 0.7192 - accuracy: 0.8880\n",
            "Epoch 126/200\n",
            "9/9 [==============================] - 0s 2ms/step - loss: 0.6082 - accuracy: 0.8970\n",
            "Epoch 127/200\n",
            "9/9 [==============================] - 0s 2ms/step - loss: 0.9457 - accuracy: 0.8600\n",
            "Epoch 128/200\n",
            "9/9 [==============================] - 0s 2ms/step - loss: 0.6086 - accuracy: 0.8992\n",
            "Epoch 129/200\n",
            "9/9 [==============================] - 0s 2ms/step - loss: 0.8335 - accuracy: 0.8682\n",
            "Epoch 130/200\n",
            "9/9 [==============================] - 0s 2ms/step - loss: 0.7759 - accuracy: 0.8712\n",
            "Epoch 131/200\n",
            "9/9 [==============================] - 0s 2ms/step - loss: 0.7633 - accuracy: 0.8803\n",
            "Epoch 132/200\n",
            "9/9 [==============================] - 0s 2ms/step - loss: 0.6370 - accuracy: 0.8961\n",
            "Epoch 133/200\n",
            "9/9 [==============================] - 0s 2ms/step - loss: 0.7297 - accuracy: 0.8720\n",
            "Epoch 134/200\n",
            "9/9 [==============================] - 0s 2ms/step - loss: 0.7443 - accuracy: 0.8870\n",
            "Epoch 135/200\n",
            "9/9 [==============================] - 0s 2ms/step - loss: 0.7211 - accuracy: 0.8863\n",
            "Epoch 136/200\n",
            "9/9 [==============================] - 0s 2ms/step - loss: 0.6898 - accuracy: 0.8989\n",
            "Epoch 137/200\n",
            "9/9 [==============================] - 0s 2ms/step - loss: 0.6676 - accuracy: 0.8908\n",
            "Epoch 138/200\n",
            "9/9 [==============================] - 0s 2ms/step - loss: 0.7387 - accuracy: 0.8837\n",
            "Epoch 139/200\n",
            "9/9 [==============================] - 0s 2ms/step - loss: 0.5913 - accuracy: 0.9172\n",
            "Epoch 140/200\n",
            "9/9 [==============================] - 0s 2ms/step - loss: 0.7814 - accuracy: 0.8826\n",
            "Epoch 141/200\n",
            "9/9 [==============================] - 0s 2ms/step - loss: 0.6569 - accuracy: 0.8923\n",
            "Epoch 142/200\n",
            "9/9 [==============================] - 0s 2ms/step - loss: 0.6429 - accuracy: 0.8865\n",
            "Epoch 143/200\n",
            "9/9 [==============================] - 0s 2ms/step - loss: 0.6732 - accuracy: 0.8758\n",
            "Epoch 144/200\n",
            "9/9 [==============================] - 0s 2ms/step - loss: 0.6606 - accuracy: 0.9005\n",
            "Epoch 145/200\n",
            "9/9 [==============================] - 0s 2ms/step - loss: 0.6924 - accuracy: 0.8958\n",
            "Epoch 146/200\n",
            "9/9 [==============================] - 0s 2ms/step - loss: 0.7190 - accuracy: 0.8851\n",
            "Epoch 147/200\n",
            "9/9 [==============================] - 0s 2ms/step - loss: 0.5996 - accuracy: 0.8979\n",
            "Epoch 148/200\n",
            "9/9 [==============================] - 0s 2ms/step - loss: 0.6241 - accuracy: 0.8990\n",
            "Epoch 149/200\n",
            "9/9 [==============================] - 0s 2ms/step - loss: 0.7433 - accuracy: 0.8904\n",
            "Epoch 150/200\n",
            "9/9 [==============================] - 0s 2ms/step - loss: 0.5944 - accuracy: 0.8969\n",
            "Epoch 151/200\n",
            "9/9 [==============================] - 0s 2ms/step - loss: 0.5723 - accuracy: 0.9061\n",
            "Epoch 152/200\n",
            "9/9 [==============================] - 0s 2ms/step - loss: 0.7865 - accuracy: 0.8801\n",
            "Epoch 153/200\n",
            "9/9 [==============================] - 0s 2ms/step - loss: 0.6298 - accuracy: 0.9002\n",
            "Epoch 154/200\n",
            "9/9 [==============================] - 0s 2ms/step - loss: 0.7038 - accuracy: 0.8830\n",
            "Epoch 155/200\n",
            "9/9 [==============================] - 0s 2ms/step - loss: 0.5598 - accuracy: 0.9045\n",
            "Epoch 156/200\n",
            "9/9 [==============================] - 0s 2ms/step - loss: 0.6054 - accuracy: 0.9171\n",
            "Epoch 157/200\n",
            "9/9 [==============================] - 0s 2ms/step - loss: 0.6953 - accuracy: 0.8938\n",
            "Epoch 158/200\n",
            "9/9 [==============================] - 0s 2ms/step - loss: 0.7331 - accuracy: 0.9004\n",
            "Epoch 159/200\n",
            "9/9 [==============================] - 0s 2ms/step - loss: 0.7519 - accuracy: 0.8764\n",
            "Epoch 160/200\n",
            "9/9 [==============================] - 0s 2ms/step - loss: 0.5569 - accuracy: 0.9090\n",
            "Epoch 161/200\n",
            "9/9 [==============================] - 0s 2ms/step - loss: 0.5737 - accuracy: 0.9072\n",
            "Epoch 162/200\n",
            "9/9 [==============================] - 0s 2ms/step - loss: 0.6320 - accuracy: 0.9064\n",
            "Epoch 163/200\n",
            "9/9 [==============================] - 0s 2ms/step - loss: 0.7033 - accuracy: 0.8945\n",
            "Epoch 164/200\n",
            "9/9 [==============================] - 0s 2ms/step - loss: 0.6649 - accuracy: 0.9040\n",
            "Epoch 165/200\n",
            "9/9 [==============================] - 0s 2ms/step - loss: 0.6505 - accuracy: 0.8985\n",
            "Epoch 166/200\n",
            "9/9 [==============================] - 0s 2ms/step - loss: 0.6025 - accuracy: 0.9207\n",
            "Epoch 167/200\n",
            "9/9 [==============================] - 0s 2ms/step - loss: 0.8015 - accuracy: 0.8797\n",
            "Epoch 168/200\n",
            "9/9 [==============================] - 0s 2ms/step - loss: 0.6155 - accuracy: 0.9051\n",
            "Epoch 169/200\n",
            "9/9 [==============================] - 0s 2ms/step - loss: 0.7351 - accuracy: 0.8900\n",
            "Epoch 170/200\n",
            "9/9 [==============================] - 0s 2ms/step - loss: 0.7352 - accuracy: 0.8933\n",
            "Epoch 171/200\n",
            "9/9 [==============================] - 0s 2ms/step - loss: 0.7174 - accuracy: 0.8928\n",
            "Epoch 172/200\n",
            "9/9 [==============================] - 0s 3ms/step - loss: 0.6517 - accuracy: 0.8903\n",
            "Epoch 173/200\n",
            "9/9 [==============================] - 0s 2ms/step - loss: 0.7404 - accuracy: 0.8873\n",
            "Epoch 174/200\n",
            "9/9 [==============================] - 0s 2ms/step - loss: 0.6327 - accuracy: 0.8964\n",
            "Epoch 175/200\n",
            "9/9 [==============================] - 0s 2ms/step - loss: 0.5085 - accuracy: 0.9164\n",
            "Epoch 176/200\n",
            "9/9 [==============================] - 0s 2ms/step - loss: 0.5920 - accuracy: 0.9097\n",
            "Epoch 177/200\n",
            "9/9 [==============================] - 0s 2ms/step - loss: 0.6288 - accuracy: 0.9036\n",
            "Epoch 178/200\n",
            "9/9 [==============================] - 0s 3ms/step - loss: 0.5700 - accuracy: 0.9041\n",
            "Epoch 179/200\n",
            "9/9 [==============================] - 0s 2ms/step - loss: 0.6899 - accuracy: 0.8988\n",
            "Epoch 180/200\n",
            "9/9 [==============================] - 0s 2ms/step - loss: 0.7563 - accuracy: 0.8887\n",
            "Epoch 181/200\n",
            "9/9 [==============================] - 0s 2ms/step - loss: 0.6974 - accuracy: 0.8833\n",
            "Epoch 182/200\n",
            "9/9 [==============================] - 0s 2ms/step - loss: 0.5933 - accuracy: 0.9071\n",
            "Epoch 183/200\n",
            "9/9 [==============================] - 0s 2ms/step - loss: 0.6983 - accuracy: 0.8861\n",
            "Epoch 184/200\n",
            "9/9 [==============================] - 0s 2ms/step - loss: 0.7006 - accuracy: 0.8946\n",
            "Epoch 185/200\n",
            "9/9 [==============================] - 0s 2ms/step - loss: 0.5821 - accuracy: 0.9136\n",
            "Epoch 186/200\n",
            "9/9 [==============================] - 0s 2ms/step - loss: 0.6539 - accuracy: 0.9094\n",
            "Epoch 187/200\n",
            "9/9 [==============================] - 0s 2ms/step - loss: 0.6740 - accuracy: 0.8943\n",
            "Epoch 188/200\n",
            "9/9 [==============================] - 0s 2ms/step - loss: 0.5630 - accuracy: 0.9139\n",
            "Epoch 189/200\n",
            "9/9 [==============================] - 0s 2ms/step - loss: 0.6182 - accuracy: 0.9034\n",
            "Epoch 190/200\n",
            "9/9 [==============================] - 0s 2ms/step - loss: 0.6130 - accuracy: 0.9142\n",
            "Epoch 191/200\n",
            "9/9 [==============================] - 0s 2ms/step - loss: 0.5170 - accuracy: 0.9204\n",
            "Epoch 192/200\n",
            "9/9 [==============================] - 0s 2ms/step - loss: 0.6152 - accuracy: 0.9106\n",
            "Epoch 193/200\n",
            "9/9 [==============================] - 0s 2ms/step - loss: 0.6348 - accuracy: 0.9126\n",
            "Epoch 194/200\n",
            "9/9 [==============================] - 0s 2ms/step - loss: 0.5320 - accuracy: 0.9237\n",
            "Epoch 195/200\n",
            "9/9 [==============================] - 0s 2ms/step - loss: 0.6420 - accuracy: 0.9115\n",
            "Epoch 196/200\n",
            "9/9 [==============================] - 0s 2ms/step - loss: 0.5245 - accuracy: 0.9062\n",
            "Epoch 197/200\n",
            "9/9 [==============================] - 0s 2ms/step - loss: 0.7165 - accuracy: 0.8977\n",
            "Epoch 198/200\n",
            "9/9 [==============================] - 0s 2ms/step - loss: 0.7637 - accuracy: 0.8887\n",
            "Epoch 199/200\n",
            "9/9 [==============================] - 0s 2ms/step - loss: 0.6543 - accuracy: 0.9001\n",
            "Epoch 200/200\n",
            "9/9 [==============================] - 0s 3ms/step - loss: 0.5229 - accuracy: 0.9221\n"
          ],
          "name": "stdout"
        }
      ]
    },
    {
      "cell_type": "code",
      "metadata": {
        "colab": {
          "base_uri": "https://localhost:8080/",
          "height": 573
        },
        "id": "xLyEkjNc82Jr",
        "outputId": "8c2608ad-208d-4ef0-baab-56de14789051"
      },
      "source": [
        "import matplotlib.pyplot as plt\r\n",
        "plt.plot(history.history['loss'])\r\n",
        "plt.title('Model loss')\r\n",
        "plt.ylabel('Loss')\r\n",
        "plt.xlabel('Epoch')\r\n",
        "plt.legend(['Train', 'Val'], loc='upper right')\r\n",
        "plt.show()\r\n",
        "plt.plot(history.history['accuracy'])\r\n",
        "plt.title('Model accuracy')\r\n",
        "plt.ylabel('Accuracy')\r\n",
        "plt.xlabel('Epoch')\r\n",
        "plt.legend(['Train', 'Val'], loc='lower right')\r\n",
        "plt.show()"
      ],
      "execution_count": null,
      "outputs": [
        {
          "output_type": "display_data",
          "data": {
            "image/png": "[encoded data removed]",
            "text/plain": [
              "<Figure size 432x288 with 1 Axes>"
            ]
          },
          "metadata": {
            "tags": [],
            "needs_background": "light"
          }
        },
        {
          "output_type": "display_data",
          "data": {
            "image/png": "[encoded data removed]",
            "text/plain": [
              "<Figure size 432x288 with 1 Axes>"
            ]
          },
          "metadata": {
            "tags": [],
            "needs_background": "light"
          }
        }
      ]
    },
    {
      "cell_type": "code",
      "metadata": {
        "id": "pjIwrolVXBF3",
        "colab": {
          "base_uri": "https://localhost:8080/"
        },
        "outputId": "d2b8dfbc-5495-4b37-9307-223f889f94bc"
      },
      "source": [
        "model.evaluate(X_test, y_test)[1]\r\n",
        "#評估準確度 [1]=accuracy [0]=loss\r\n",
        "#print(X_train.shape,X_test.shape,y_train.shape,y_test.shape)"
      ],
      "execution_count": null,
      "outputs": [
        {
          "output_type": "stream",
          "text": [
            "2/2 [==============================] - 0s 3ms/step - loss: 0.7240 - accuracy: 0.9167\n"
          ],
          "name": "stdout"
        },
        {
          "output_type": "execute_result",
          "data": {
            "text/plain": [
              "0.9166666865348816"
            ]
          },
          "metadata": {
            "tags": []
          },
          "execution_count": 20
        }
      ]
    }
  ]
}